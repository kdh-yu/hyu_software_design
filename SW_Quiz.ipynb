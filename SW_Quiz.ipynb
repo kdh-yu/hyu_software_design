{
 "cells": [
  {
   "cell_type": "markdown",
   "metadata": {},
   "source": [
    "# All Quiz Answers.\n",
    "###### Department of Data Science, 2022094093 Kim Dohoon"
   ]
  },
  {
   "cell_type": "markdown",
   "metadata": {},
   "source": [
    "----\n",
    "#### Quiz 1-1\n",
    "###### Write a program that prints your student number and English name."
   ]
  },
  {
   "cell_type": "code",
   "execution_count": null,
   "metadata": {},
   "outputs": [],
   "source": [
    "student_number = \"2022094093\"\n",
    "eng_name = \"Dohoon Kim\"\n",
    "print(student_number,eng_name)"
   ]
  },
  {
   "cell_type": "markdown",
   "metadata": {},
   "source": [
    "#### Quiz 1-2\n",
    "###### Write a program that create variables a, b, and c.<br>Then, store 10, 'hello', and 3.1 into a, b, and c, respectively.<br>Finally, print the values of a, b, and c"
   ]
  },
  {
   "cell_type": "code",
   "execution_count": null,
   "metadata": {},
   "outputs": [],
   "source": [
    "a = 10\n",
    "b = \"hello\"\n",
    "c = 3.1\n",
    "print(a)\n",
    "print(b)\n",
    "print(c)"
   ]
  },
  {
   "cell_type": "markdown",
   "metadata": {},
   "source": [
    "#### Quiz 1-3\n",
    "###### Create variables a, b, and c, and store 10, 'hello' and 3.1, into a, b, and c, respectively. <br>Finally, print the concatenation of a, b, and c.<br>Note that variable a should be an integer type and variable c should be a floating point type (not a string type),<br>and the print() function should be used only once."
   ]
  },
  {
   "cell_type": "code",
   "execution_count": null,
   "metadata": {},
   "outputs": [],
   "source": [
    "a = 10\n",
    "b = \"hello\"\n",
    "c = 3.1\n",
    "print(str(a)+b+str(c))"
   ]
  },
  {
   "cell_type": "markdown",
   "metadata": {},
   "source": [
    "----\n",
    "#### Quiz 2-1\n",
    "###### Write a program that prints the area of the circle where the input of your program is the radius of the circle.<br>In your program, create a variable called pi with a value of 3.14 and a variable for radius."
   ]
  },
  {
   "cell_type": "code",
   "execution_count": null,
   "metadata": {},
   "outputs": [],
   "source": [
    "import math\n",
    "r = int(input(\"Radius : \"))\n",
    "area = r*r*math.pi\n",
    "print(\"Area :\",area)"
   ]
  },
  {
   "cell_type": "markdown",
   "metadata": {},
   "source": [
    "#### Quiz 2-2\n",
    "###### Write a program that prints the average score of English, mathematics, and science<br>where the input is the scores of English, mathematics, and science. \n"
   ]
  },
  {
   "cell_type": "code",
   "execution_count": null,
   "metadata": {},
   "outputs": [],
   "source": [
    "eng_score = 100\n",
    "math_score = 100\n",
    "science_score = 60\n",
    "\n",
    "average = (eng_score + math_score + science_score)/3\n",
    "print(\"Average :\",round(average, 2))"
   ]
  },
  {
   "cell_type": "markdown",
   "metadata": {},
   "source": [
    "----\n",
    "#### Quiz 3-1\n",
    "###### Write a program that changes won to dollars.<br>The input of your program is won and output is dollars.<br>You must use f-string and print the output up to second decimal place. ($1 = 1,135 won)"
   ]
  },
  {
   "cell_type": "code",
   "execution_count": null,
   "metadata": {},
   "outputs": [],
   "source": [
    "kor_won = int(input(\"kor won : \"))\n",
    "print(f\"{kor_won} was exchanged to {kor_won/1135:.2f} dollars.\")"
   ]
  },
  {
   "cell_type": "markdown",
   "metadata": {},
   "source": [
    "#### Quiz 3-2\n",
    "###### Take hour and minute, print the time that is 30 minutes before the input time.<br>The range of hour is 0~23 and range of minute is 0~59."
   ]
  },
  {
   "cell_type": "code",
   "execution_count": null,
   "metadata": {},
   "outputs": [],
   "source": [
    "import datetime\n",
    "hours = int(input(\"hours : \"))\n",
    "minutes = int(input(\"minutes : \"))\n",
    "target_date = datetime.datetime(2003,4,5,hours,minutes,0)\n",
    "thirty_minutes_ago = target_date - datetime.timedelta(minutes=30)\n",
    "print(thirty_minutes_ago.strftime(\"%H:%M\"))"
   ]
  },
  {
   "cell_type": "markdown",
   "metadata": {},
   "source": [
    "----\n",
    "#### Quiz 4-1\n",
    "###### Print the multiplication table for the input number.<br>Note that the products are right-justified. Use while statement."
   ]
  },
  {
   "cell_type": "code",
   "execution_count": null,
   "metadata": {},
   "outputs": [],
   "source": [
    "target_number =int(input(\"What number do u want to know? : \"))\n",
    "for i in range(1,10):\n",
    "    print(f\"{target_number} x {i} = {target_number*i:2d}\")"
   ]
  },
  {
   "cell_type": "markdown",
   "metadata": {},
   "source": [
    "#### Quiz 4-2\n",
    "###### Print the sum of integers in the following way from the first input integer to the second input integer."
   ]
  },
  {
   "cell_type": "code",
   "execution_count": null,
   "metadata": {},
   "outputs": [],
   "source": [
    "first_input = int(input(\"from : \"))\n",
    "second_input = int(input(\"to : \"))\n",
    "output_str = \"\"\n",
    "sum = 0\n",
    "for i in range (first_input,second_input+1):\n",
    "    output_str = output_str + f\"{i} + \"\n",
    "    sum += i\n",
    "print(f\"{output_str[:-3]} = {sum}\")"
   ]
  },
  {
   "cell_type": "markdown",
   "metadata": {},
   "source": [
    "----\n",
    "#### Quiz 5-1 (Use \"while\" loop)\n",
    "###### Write a program that perform arithmetic operations on two integers.<br>The inputs of your program are the number of operation(s), two operands, and the operator<br>(Please use f-string formatting and print the output up to second decimal place.)."
   ]
  },
  {
   "cell_type": "code",
   "execution_count": null,
   "metadata": {},
   "outputs": [],
   "source": [
    "def operate(first, second, operator):\n",
    "    if operator == \"+\":\n",
    "        return first + second\n",
    "    elif operator == '-':\n",
    "        return first - second\n",
    "    elif operator == \"*\":\n",
    "        return first * second\n",
    "    elif operator == '/':\n",
    "        try:\n",
    "            return first / second\n",
    "        except:\n",
    "            return \"None\"\n",
    "\n",
    "loop_ = int(input(\"how many loop : \"))\n",
    "\n",
    "while loop_ > 0:\n",
    "    first_number = int(input(\"first operand : \"))\n",
    "    operator = input(\"operator : \")\n",
    "    second_number = int(input(\"second operand : \"))\n",
    "    print(f\"{first_number} {operator} {second_number} = {operate(first_number, second_number, operator):.2f}\")\n",
    "    loop_ -= 1"
   ]
  },
  {
   "cell_type": "markdown",
   "metadata": {},
   "source": [
    "#### Quiz 5-2 (Use \"for\" loop)\n",
    "###### The entry in the i-th row and j-th column of a matrix A is referred to as (i,j)th entry of the matrix.<br>Write a program that marks the element in a 4x4 square matrix (The inputs of your program are i, j)."
   ]
  },
  {
   "cell_type": "code",
   "execution_count": null,
   "metadata": {},
   "outputs": [],
   "source": [
    "row = int(input())\n",
    "column = int(input())\n",
    "for i in range (1,5):\n",
    "    printed = \"\"\n",
    "    for j in range (1,5):\n",
    "        if i == row and j == column:\n",
    "            printed += \"*\"\n",
    "        else:\n",
    "            printed += \"-\"\n",
    "    print(printed)"
   ]
  },
  {
   "cell_type": "markdown",
   "metadata": {},
   "source": [
    "#### Quiz 5-3 (Use \"while\" loop)\n",
    "###### The entry in the i-th row and j-th column of a matrix A is referred to as (i,j)th entry of the matrix.<br>Write a program that marks the element in a 4x4 square matrix (The inputs of your program are i, j)."
   ]
  },
  {
   "cell_type": "code",
   "execution_count": null,
   "metadata": {},
   "outputs": [],
   "source": [
    "row = int(input())\n",
    "column = int(input())\n",
    "i = 1\n",
    "j = 1\n",
    "\n",
    "while i < 5:\n",
    "    printed = \"\"\n",
    "    while j < 5:\n",
    "        if i == row and j == column:\n",
    "            printed += \"*\"\n",
    "            j += 1\n",
    "        else:\n",
    "            printed += \"-\"\n",
    "            j += 1\n",
    "    print(printed)\n",
    "    i += 1\n",
    "    j = 1"
   ]
  },
  {
   "cell_type": "markdown",
   "metadata": {},
   "source": [
    "----\n",
    "#### Quiz 6-1\n",
    "###### Write a program that prints parallelogram. The input of your program is height of parallelogram.<br>The length of the base(the number of *) is equal to height.\n"
   ]
  },
  {
   "cell_type": "code",
   "execution_count": null,
   "metadata": {},
   "outputs": [],
   "source": [
    "parallelogram_length = int(input(\"How long do u want? : \"))\n",
    "line_star = \"*\" * parallelogram_length\n",
    "for i in range (parallelogram_length):\n",
    "    print(line_star)\n",
    "    line_star = \" \" + line_star"
   ]
  },
  {
   "cell_type": "markdown",
   "metadata": {},
   "source": [
    "#### Quiz 6-2 (Use a nested loop)\n",
    "###### Write a program that takes integer 𝑛 and prints 𝑇𝑛 defined as follows. <br>𝑻𝒏=𝟏+(𝟏+𝟑)+(𝟏+𝟑+𝟓)+…+(𝟏+…+𝟐𝒏−𝟏)"
   ]
  },
  {
   "cell_type": "code",
   "execution_count": null,
   "metadata": {},
   "outputs": [],
   "source": [
    "what_number = int(input(\"What number? : \"))\n",
    "sum_ = 0\n",
    "an_sum = 0\n",
    "\n",
    "for i in range (what_number):\n",
    "    for j in range (1,i+2):\n",
    "        an_sum += 2*j - 1\n",
    "    sum_ += an_sum\n",
    "    an_sum = 0\n",
    "print(sum_)"
   ]
  },
  {
   "cell_type": "markdown",
   "metadata": {},
   "source": [
    "#### Quiz 6-3 (Use a nested loop)\n",
    "###### Write a program that takes 𝑛 and prints 𝑆𝑛.<br>𝑺𝒏=(𝟏)+(𝟏+𝟐)+(𝟏+𝟐+𝟑)+…+(𝟏+…+𝒏)"
   ]
  },
  {
   "cell_type": "code",
   "execution_count": null,
   "metadata": {},
   "outputs": [],
   "source": [
    "what_number = int(input(\"What number? : \"))\n",
    "sum_ = 0\n",
    "an_sum = 0\n",
    "\n",
    "for i in range (what_number):\n",
    "    for j in range (1,i+2):\n",
    "        an_sum += j\n",
    "    sum_ += an_sum\n",
    "    an_sum = 0\n",
    "print(sum_)"
   ]
  },
  {
   "cell_type": "markdown",
   "metadata": {},
   "source": [
    "----\n",
    "#### Quiz 7-1 (Use single loop)\n",
    "###### Write and call a function print_triangle(H) to print a triangle of height H as follows.<br>The input of your program is the integer height of the triangle.<br>Note that the base has no preceding space.\n",
    "\n"
   ]
  },
  {
   "cell_type": "code",
   "execution_count": null,
   "metadata": {},
   "outputs": [],
   "source": [
    "def print_triangle(H):\n",
    "    for i in range (H+1):\n",
    "        printed_string = \" \"*(H-i) + \"*\"*(2*i-1) + \" \"*(H-i)\n",
    "        print(printed_string)\n",
    "\n",
    "Height = int(input(\"Height? : \"))\n",
    "print_triangle(Height)"
   ]
  },
  {
   "cell_type": "markdown",
   "metadata": {},
   "source": [
    "#### Quiz 7-2\n",
    "###### Write and call a function rock_paper_scissors(user_hand).<br>The input of your program is your hand sign.<br>An opponent’s hand sign should be randomly generated.<br>(Use random.randint() for opponent’s hand sign)\n"
   ]
  },
  {
   "cell_type": "code",
   "execution_count": null,
   "metadata": {},
   "outputs": [],
   "source": [
    "import random\n",
    "result = {0:\"Win.\", 1:\"Lose.\", 2:\"Draw.\"}\n",
    "cases = [\"rock\",\"paper\",\"scissors\"]\n",
    "\n",
    "def CheckWinner(user, bot):\n",
    "    if user == \"stop\":\n",
    "        print(\"Game stopped.\")\n",
    "        return True\n",
    "    elif not user in cases:\n",
    "        print(\"Input error.\")\n",
    "        return True\n",
    "    if user == bot:\n",
    "        state = 2\n",
    "    elif user == \"scissors\" and bot == \"paper\":\n",
    "        state = 0\n",
    "    elif user == \"rock\" and bot == \"scissors\":\n",
    "        state = 0\n",
    "    elif user == \"paper\" and bot == \"rock\":\n",
    "        state = 0\n",
    "    else:\n",
    "        state = 1\n",
    "    print(result[state])\n",
    "    print(\"\")\n",
    "    return False\n",
    "\n",
    "\n",
    "def rock_paper_scissors():\n",
    "    while True:\n",
    "        print(\"Only input rock, paper, or scissors.\\nIf u want to stop, input 'stop'.\\n\")\n",
    "        user_hand = input(\"Your hand sign : \").lower()\n",
    "        opponent_hand = cases[random.randint(0,2)]\n",
    "        print(\"Your opponent's hand sign is\",opponent_hand+\".\")\n",
    "        if CheckWinner(user_hand, opponent_hand):\n",
    "            break\n",
    "\n",
    "rock_paper_scissors()"
   ]
  },
  {
   "cell_type": "markdown",
   "metadata": {},
   "source": [
    "----\n",
    "#### Quiz 8-1 (Do not use a function, Instead use \"for\" loop) \n",
    "###### Write a program that takes 𝑛 (𝑛≥1) and prints 𝐟𝐢𝐛𝐨(𝒏).<br>(For example, 1, 1, 2, 3, 5, 8, 13, 21, 34, 55, ...)\n"
   ]
  },
  {
   "cell_type": "code",
   "execution_count": null,
   "metadata": {},
   "outputs": [],
   "source": [
    "fibo_1 = 1\n",
    "fibo_2 = 1\n",
    "fibo_3 = 0\n",
    "n_th = int(input(\"What'th number do you want to know?? : \"))\n",
    "for i in range (1,n_th-1):\n",
    "    fibo_3 = fibo_1 + fibo_2\n",
    "    fibo_1 = fibo_2\n",
    "    fibo_2 = fibo_3\n",
    "if n_th <= 2:\n",
    "    print(f\"{n_th}(th) number was 1.\")\n",
    "else:\n",
    "    print(f\"{n_th}(th) number was {fibo_3}.\")\n"
   ]
  },
  {
   "cell_type": "markdown",
   "metadata": {},
   "source": [
    "#### Quiz 8-2 (Use a recursive function) \n",
    "###### Write a program that takes 𝑛 (𝑛≥1) and prints 𝐟𝐢𝐛𝐨(𝒏).\n"
   ]
  },
  {
   "cell_type": "code",
   "execution_count": null,
   "metadata": {},
   "outputs": [],
   "source": [
    "def fibo(n):\n",
    "    if n <= 2:\n",
    "        return 1\n",
    "    else:\n",
    "        return fibo(n-1) + fibo(n-2)\n",
    "n_th = int(input(\"What'th number do you want to know?? : \"))\n",
    "print(f\"{n_th}(th) number was {fibo(n_th)}.\")"
   ]
  },
  {
   "cell_type": "markdown",
   "metadata": {},
   "source": [
    "----\n",
    "#### Quiz 9-1\n",
    "###### Write a program that prints an inserted string.<br>A string to be inserted into is given on the first line, a string to be inserted is given on the second line,<br>and the index by which the string should be inserted is given on the third line. \n"
   ]
  },
  {
   "cell_type": "code",
   "execution_count": null,
   "metadata": {},
   "outputs": [],
   "source": [
    "first_string = input(\"Please input string. : \")\n",
    "second_string = input(\"Please input insert string. : \")\n",
    "slice_number = int(input(\"What'th number do you want to insert? : \"))\n",
    "\n",
    "inserted_string = first_string[:slice_number-1] + second_string + first_string[slice_number-1:]\n",
    "print(f\"Inserted String : {inserted_string}\")"
   ]
  },
  {
   "cell_type": "markdown",
   "metadata": {},
   "source": [
    "#### 9-3 extra"
   ]
  },
  {
   "cell_type": "markdown",
   "metadata": {},
   "source": [
    "###### Q. Write a Python function to find the Max of three numbers. (5 min)"
   ]
  },
  {
   "cell_type": "code",
   "execution_count": null,
   "metadata": {},
   "outputs": [],
   "source": [
    "def find_max(list):\n",
    "    list.sort(reverse=True)\n",
    "    return list[0]\n",
    "list = [int(i) for i in input(\"Please input : \").split()]\n",
    "print(find_max(list))"
   ]
  },
  {
   "cell_type": "markdown",
   "metadata": {},
   "source": [
    "###### Q. Write a Python program to reverse a string. (5 min)"
   ]
  },
  {
   "cell_type": "code",
   "execution_count": null,
   "metadata": {},
   "outputs": [],
   "source": [
    "rev_string = input()\n",
    "print(rev_string[::-1])"
   ]
  },
  {
   "cell_type": "markdown",
   "metadata": {},
   "source": [
    "###### Q. Given a list in Python and provided the positions of the elements, write a program to swap the two elements in the list."
   ]
  },
  {
   "cell_type": "code",
   "execution_count": null,
   "metadata": {},
   "outputs": [],
   "source": [
    "List = list(input().split())\n",
    "pos1 = int(input(\"pos1 : \")) - 1\n",
    "pos2 = int(input(\"pos2 : \")) - 1\n",
    "pos1_value = List[pos1]\n",
    "pos2_value = List[pos2]\n",
    "List[pos1] = pos2_value\n",
    "List[pos2] = pos1_value\n",
    "print(List)"
   ]
  },
  {
   "cell_type": "markdown",
   "metadata": {},
   "source": [
    "#### 9-4 extra\n",
    "###### Q. Write a program to print the first 10 natural numbers in reverse order using a while loop."
   ]
  },
  {
   "cell_type": "code",
   "execution_count": null,
   "metadata": {},
   "outputs": [],
   "source": [
    "natural_number = 10\n",
    "nn_str = \"\"\n",
    "while natural_number > 0:\n",
    "    nn_str = nn_str + str(natural_number) + \" \"\n",
    "    natural_number -= 1\n",
    "print(nn_str)"
   ]
  },
  {
   "cell_type": "markdown",
   "metadata": {},
   "source": [
    "###### Q. Write a program to print sum of first 10 Even numbers."
   ]
  },
  {
   "cell_type": "code",
   "execution_count": null,
   "metadata": {},
   "outputs": [],
   "source": [
    "sum = 0\n",
    "for i in range (10):\n",
    "    sum += 2*i + 2\n",
    "print(sum)"
   ]
  },
  {
   "cell_type": "markdown",
   "metadata": {},
   "source": [
    "###### Q. Write a program to check whether a number is prime or not (use while loop)."
   ]
  },
  {
   "cell_type": "code",
   "execution_count": null,
   "metadata": {},
   "outputs": [],
   "source": [
    "i = 2\n",
    "is_prime = int(input())\n",
    "while True:\n",
    "    if i != is_prime:\n",
    "        if is_prime % i == 0:\n",
    "            print(\"False\")\n",
    "            break\n",
    "        else:\n",
    "            i += 1\n",
    "    print(\"True\")\n",
    "    break"
   ]
  },
  {
   "cell_type": "markdown",
   "metadata": {},
   "source": [
    "###### Q. Write a program to reverse the number accepted from user using while loop."
   ]
  },
  {
   "cell_type": "code",
   "execution_count": null,
   "metadata": {},
   "outputs": [],
   "source": [
    "input_number = int(input())\n",
    "reverse = 0\n",
    "while(input_number != 0):\n",
    "    r = input_number % 10\n",
    "    reverse = reverse * 10 + r\n",
    "    input_number = input_number // 10\n",
    "print(reverse)"
   ]
  },
  {
   "cell_type": "markdown",
   "metadata": {},
   "source": [
    "###### Q. Write a program to enter the numbers till the user enter ZERO <br>and at the end it should display the count of positive and negative numbers entered."
   ]
  },
  {
   "cell_type": "code",
   "execution_count": null,
   "metadata": {},
   "outputs": [],
   "source": [
    "num = int(input(\"Input number to enter : \"))\n",
    "pos_num = 0\n",
    "neg_num = 0\n",
    "while num != 0:\n",
    "    if num > 0:\n",
    "        pos_num += 1\n",
    "    elif num < 0:\n",
    "        neg_num += 1\n",
    "    else:\n",
    "        break\n",
    "    num = int(input(\"Input number to enter : \"))\n",
    "print(f\"{pos_num} positive number(s) was(were) entered.\")\n",
    "print(f\"{neg_num} negative number(s) was(were) entered.\")"
   ]
  },
  {
   "cell_type": "markdown",
   "metadata": {},
   "source": [
    "###### Q. Write a program to display sum of odd numbers and even numbers separately<br>that fall between two numbers accepted from the user.(including both numbers) using while loop."
   ]
  },
  {
   "cell_type": "code",
   "execution_count": null,
   "metadata": {},
   "outputs": [],
   "source": [
    "num1 = int(input(\"Enter first number  : \"))\n",
    "num2 = int(input(\"Enter second number  : \"))\n",
    "odd_sum, even_sum = 0, 0\n",
    "for i in range (num1,num2+1):\n",
    "    if i % 2 == 0:\n",
    "        even_sum += i\n",
    "    else:\n",
    "        odd_sum += i\n",
    "print(f\"Sum of odd numbers were {odd_sum}.\")\n",
    "print(f\"Sum of even numbers were {even_sum}.\")"
   ]
  }
 ],
 "metadata": {
  "interpreter": {
   "hash": "b0fa6594d8f4cbf19f97940f81e996739fb7646882a419484c72d19e05852a7e"
  },
  "kernelspec": {
   "display_name": "Python 3.9.10 64-bit",
   "language": "python",
   "name": "python3"
  },
  "language_info": {
   "codemirror_mode": {
    "name": "ipython",
    "version": 3
   },
   "file_extension": ".py",
   "mimetype": "text/x-python",
   "name": "python",
   "nbconvert_exporter": "python",
   "pygments_lexer": "ipython3",
   "version": "3.9.10"
  },
  "orig_nbformat": 4
 },
 "nbformat": 4,
 "nbformat_minor": 2
}
